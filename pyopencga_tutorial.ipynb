{
 "cells": [
  {
   "cell_type": "markdown",
   "id": "independent-quebec",
   "metadata": {},
   "source": [
    "# pyOpenCGA tutorial\n",
    "\n",
    "Link: https://pypi.org/project/pyopencga/\n",
    "\n",
    "Date: 2021-10-29"
   ]
  },
  {
   "cell_type": "code",
   "execution_count": 2,
   "id": "aquatic-theology",
   "metadata": {},
   "outputs": [
    {
     "name": "stdout",
     "output_type": "stream",
     "text": [
      "Cloning into 'opencga'...\n",
      "remote: Enumerating objects: 325927, done.\u001b[K\n",
      "remote: Counting objects: 100% (25708/25708), done.\u001b[K\n",
      "remote: Compressing objects: 100% (8180/8180), done.\u001b[K\n",
      "remote: Total 325927 (delta 10858), reused 24922 (delta 10204), pack-reused 300219\u001b[K\n",
      "Receiving objects: 100% (325927/325927), 114.13 MiB | 26.39 MiB/s, done.\n",
      "Resolving deltas: 100% (136735/136735), done.\n"
     ]
    }
   ],
   "source": [
    "# Clone from github\n",
    "! git clone https://github.com/opencb/opencga.git"
   ]
  },
  {
   "cell_type": "code",
   "execution_count": 7,
   "id": "classified-medicare",
   "metadata": {},
   "outputs": [
    {
     "name": "stdout",
     "output_type": "stream",
     "text": [
      "Requirement already satisfied: pyopencga in ./pyvenv-scipy-3.8/lib/python3.8/site-packages (2.1.0)\n",
      "Requirement already satisfied: pyyaml>=3.12 in ./pyvenv-scipy-3.8/lib/python3.8/site-packages (from pyopencga) (5.4.1)\n",
      "Requirement already satisfied: requests>=2.7 in ./pyvenv-scipy-3.8/lib/python3.8/site-packages (from pyopencga) (2.25.1)\n",
      "Requirement already satisfied: pandas>=1.1.5 in ./pyvenv-scipy-3.8/lib/python3.8/site-packages (from pyopencga) (1.3.4)\n",
      "Requirement already satisfied: pathlib>=1.0.1 in ./pyvenv-scipy-3.8/lib/python3.8/site-packages (from pyopencga) (1.0.1)\n",
      "Requirement already satisfied: pip>=7.1.2 in ./pyvenv-scipy-3.8/lib/python3.8/site-packages (from pyopencga) (20.0.2)\n",
      "Requirement already satisfied: urllib3<1.27,>=1.21.1 in ./pyvenv-scipy-3.8/lib/python3.8/site-packages (from requests>=2.7->pyopencga) (1.26.3)\n",
      "Requirement already satisfied: certifi>=2017.4.17 in ./pyvenv-scipy-3.8/lib/python3.8/site-packages (from requests>=2.7->pyopencga) (2020.12.5)\n",
      "Requirement already satisfied: idna<3,>=2.5 in ./pyvenv-scipy-3.8/lib/python3.8/site-packages (from requests>=2.7->pyopencga) (2.10)\n",
      "Requirement already satisfied: chardet<5,>=3.0.2 in ./pyvenv-scipy-3.8/lib/python3.8/site-packages (from requests>=2.7->pyopencga) (4.0.0)\n",
      "Requirement already satisfied: pytz>=2017.3 in ./pyvenv-scipy-3.8/lib/python3.8/site-packages (from pandas>=1.1.5->pyopencga) (2021.1)\n",
      "Requirement already satisfied: numpy>=1.17.3; platform_machine != \"aarch64\" and platform_machine != \"arm64\" and python_version < \"3.10\" in ./pyvenv-scipy-3.8/lib/python3.8/site-packages (from pandas>=1.1.5->pyopencga) (1.20.1)\n",
      "Requirement already satisfied: python-dateutil>=2.7.3 in ./pyvenv-scipy-3.8/lib/python3.8/site-packages (from pandas>=1.1.5->pyopencga) (2.8.1)\n",
      "Requirement already satisfied: six>=1.5 in ./pyvenv-scipy-3.8/lib/python3.8/site-packages (from python-dateutil>=2.7.3->pandas>=1.1.5->pyopencga) (1.15.0)\n"
     ]
    }
   ],
   "source": [
    "# Install (virtual environment recommended)\n",
    "! source ~/bin/activate-pyvenv-scipy-3.8 \n",
    "! pip install pyopencga"
   ]
  },
  {
   "cell_type": "code",
   "execution_count": 9,
   "id": "complex-apartment",
   "metadata": {},
   "outputs": [],
   "source": [
    "# Import pyOpenCGA package\n",
    "from pyopencga.opencga_config import ClientConfiguration"
   ]
  },
  {
   "cell_type": "code",
   "execution_count": 10,
   "id": "happy-reproduction",
   "metadata": {},
   "outputs": [
    {
     "ename": "ImportError",
     "evalue": "cannot import name 'OpenCGAClient' from 'pyopencga.opencga_client' (/home/mab/workspace/pyvenv-scipy-3.8/lib/python3.8/site-packages/pyopencga/opencga_client.py)",
     "output_type": "error",
     "traceback": [
      "\u001b[0;31m---------------------------------------------------------------------------\u001b[0m",
      "\u001b[0;31mImportError\u001b[0m                               Traceback (most recent call last)",
      "\u001b[0;32m<ipython-input-10-cc2f0f39930d>\u001b[0m in \u001b[0;36m<module>\u001b[0;34m\u001b[0m\n\u001b[0;32m----> 1\u001b[0;31m \u001b[0;32mfrom\u001b[0m \u001b[0mpyopencga\u001b[0m\u001b[0;34m.\u001b[0m\u001b[0mopencga_client\u001b[0m \u001b[0;32mimport\u001b[0m \u001b[0mOpenCGAClient\u001b[0m\u001b[0;34m\u001b[0m\u001b[0;34m\u001b[0m\u001b[0m\n\u001b[0m",
      "\u001b[0;31mImportError\u001b[0m: cannot import name 'OpenCGAClient' from 'pyopencga.opencga_client' (/home/mab/workspace/pyvenv-scipy-3.8/lib/python3.8/site-packages/pyopencga/opencga_client.py)"
     ]
    }
   ],
   "source": [
    "from pyopencga.opencga_client import OpenCGAClient"
   ]
  },
  {
   "cell_type": "markdown",
   "id": "friendly-ontario",
   "metadata": {},
   "source": [
    "## Error #1\n",
    "The name of the function has changed and now it is called OpencgaClient.\n",
    "https://github.com/opencb/opencga/blob/develop/opencga-client/src/main/python/pyopencga/opencga_client.py"
   ]
  },
  {
   "cell_type": "code",
   "execution_count": 11,
   "id": "apparent-procedure",
   "metadata": {},
   "outputs": [],
   "source": [
    "# Correct name of the function\n",
    "from pyopencga.opencga_client import OpencgaClient"
   ]
  },
  {
   "cell_type": "code",
   "execution_count": 15,
   "id": "distinguished-female",
   "metadata": {},
   "outputs": [
    {
     "ename": "OSError",
     "evalue": "Unable to read file \"/opt/opencga/conf/client-configuration.yml\"",
     "output_type": "error",
     "traceback": [
      "\u001b[0;31m---------------------------------------------------------------------------\u001b[0m",
      "\u001b[0;31mFileNotFoundError\u001b[0m                         Traceback (most recent call last)",
      "\u001b[0;32m~/workspace/pyvenv-scipy-3.8/lib/python3.8/site-packages/pyopencga/opencga_config.py\u001b[0m in \u001b[0;36m_get_dictionary_from_file\u001b[0;34m(self, config_fpath)\u001b[0m\n\u001b[1;32m     33\u001b[0m         \u001b[0;32mtry\u001b[0m\u001b[0;34m:\u001b[0m\u001b[0;34m\u001b[0m\u001b[0;34m\u001b[0m\u001b[0m\n\u001b[0;32m---> 34\u001b[0;31m             \u001b[0mconfig_fhand\u001b[0m \u001b[0;34m=\u001b[0m \u001b[0mopen\u001b[0m\u001b[0;34m(\u001b[0m\u001b[0mconfig_fpath\u001b[0m\u001b[0;34m,\u001b[0m \u001b[0;34m'r'\u001b[0m\u001b[0;34m)\u001b[0m\u001b[0;34m\u001b[0m\u001b[0;34m\u001b[0m\u001b[0m\n\u001b[0m\u001b[1;32m     35\u001b[0m         \u001b[0;32mexcept\u001b[0m\u001b[0;34m:\u001b[0m\u001b[0;34m\u001b[0m\u001b[0;34m\u001b[0m\u001b[0m\n",
      "\u001b[0;31mFileNotFoundError\u001b[0m: [Errno 2] No such file or directory: '/opt/opencga/conf/client-configuration.yml'",
      "\nDuring handling of the above exception, another exception occurred:\n",
      "\u001b[0;31mOSError\u001b[0m                                   Traceback (most recent call last)",
      "\u001b[0;32m<ipython-input-15-a2d50618c079>\u001b[0m in \u001b[0;36m<module>\u001b[0;34m\u001b[0m\n\u001b[1;32m      1\u001b[0m \u001b[0;31m# Setting up server host configuration\u001b[0m\u001b[0;34m\u001b[0m\u001b[0;34m\u001b[0m\u001b[0;34m\u001b[0m\u001b[0m\n\u001b[0;32m----> 2\u001b[0;31m \u001b[0mconfig\u001b[0m \u001b[0;34m=\u001b[0m \u001b[0mClientConfiguration\u001b[0m\u001b[0;34m(\u001b[0m\u001b[0;34m'/opt/opencga/conf/client-configuration.yml'\u001b[0m\u001b[0;34m)\u001b[0m\u001b[0;34m\u001b[0m\u001b[0;34m\u001b[0m\u001b[0m\n\u001b[0m",
      "\u001b[0;32m~/workspace/pyvenv-scipy-3.8/lib/python3.8/site-packages/pyopencga/opencga_config.py\u001b[0m in \u001b[0;36m__init__\u001b[0;34m(self, config_input)\u001b[0m\n\u001b[1;32m     26\u001b[0m             \u001b[0mself\u001b[0m\u001b[0;34m.\u001b[0m\u001b[0m_config\u001b[0m \u001b[0;34m=\u001b[0m \u001b[0mconfig_input\u001b[0m\u001b[0;34m\u001b[0m\u001b[0;34m\u001b[0m\u001b[0m\n\u001b[1;32m     27\u001b[0m         \u001b[0;32melse\u001b[0m\u001b[0;34m:\u001b[0m\u001b[0;34m\u001b[0m\u001b[0;34m\u001b[0m\u001b[0m\n\u001b[0;32m---> 28\u001b[0;31m             \u001b[0mself\u001b[0m\u001b[0;34m.\u001b[0m\u001b[0m_config\u001b[0m \u001b[0;34m=\u001b[0m \u001b[0mself\u001b[0m\u001b[0;34m.\u001b[0m\u001b[0m_get_dictionary_from_file\u001b[0m\u001b[0;34m(\u001b[0m\u001b[0mconfig_input\u001b[0m\u001b[0;34m)\u001b[0m\u001b[0;34m\u001b[0m\u001b[0;34m\u001b[0m\u001b[0m\n\u001b[0m\u001b[1;32m     29\u001b[0m \u001b[0;34m\u001b[0m\u001b[0m\n\u001b[1;32m     30\u001b[0m         \u001b[0mself\u001b[0m\u001b[0;34m.\u001b[0m\u001b[0m_validate_configuration\u001b[0m\u001b[0;34m(\u001b[0m\u001b[0mself\u001b[0m\u001b[0;34m.\u001b[0m\u001b[0m_config\u001b[0m\u001b[0;34m)\u001b[0m\u001b[0;34m\u001b[0m\u001b[0;34m\u001b[0m\u001b[0m\n",
      "\u001b[0;32m~/workspace/pyvenv-scipy-3.8/lib/python3.8/site-packages/pyopencga/opencga_config.py\u001b[0m in \u001b[0;36m_get_dictionary_from_file\u001b[0;34m(self, config_fpath)\u001b[0m\n\u001b[1;32m     35\u001b[0m         \u001b[0;32mexcept\u001b[0m\u001b[0;34m:\u001b[0m\u001b[0;34m\u001b[0m\u001b[0;34m\u001b[0m\u001b[0m\n\u001b[1;32m     36\u001b[0m             \u001b[0mmsg\u001b[0m \u001b[0;34m=\u001b[0m \u001b[0;34m'Unable to read file \"'\u001b[0m \u001b[0;34m+\u001b[0m \u001b[0mconfig_fpath\u001b[0m \u001b[0;34m+\u001b[0m \u001b[0;34m'\"'\u001b[0m\u001b[0;34m\u001b[0m\u001b[0;34m\u001b[0m\u001b[0m\n\u001b[0;32m---> 37\u001b[0;31m             \u001b[0;32mraise\u001b[0m \u001b[0mIOError\u001b[0m\u001b[0;34m(\u001b[0m\u001b[0mmsg\u001b[0m\u001b[0;34m)\u001b[0m\u001b[0;34m\u001b[0m\u001b[0;34m\u001b[0m\u001b[0m\n\u001b[0m\u001b[1;32m     38\u001b[0m \u001b[0;34m\u001b[0m\u001b[0m\n\u001b[1;32m     39\u001b[0m         \u001b[0mconfig_dict\u001b[0m \u001b[0;34m=\u001b[0m \u001b[0;32mNone\u001b[0m\u001b[0;34m\u001b[0m\u001b[0;34m\u001b[0m\u001b[0m\n",
      "\u001b[0;31mOSError\u001b[0m: Unable to read file \"/opt/opencga/conf/client-configuration.yml\""
     ]
    }
   ],
   "source": [
    "# Setting up server host configuration\n",
    "config = ClientConfiguration('/opt/opencga/conf/client-configuration.yml')"
   ]
  },
  {
   "cell_type": "markdown",
   "id": "decimal-switzerland",
   "metadata": {},
   "source": [
    "## Error #2\n",
    "\n",
    "File does not exist???"
   ]
  }
 ],
 "metadata": {
  "kernelspec": {
   "display_name": "Python 3",
   "language": "python",
   "name": "python3"
  },
  "language_info": {
   "codemirror_mode": {
    "name": "ipython",
    "version": 3
   },
   "file_extension": ".py",
   "mimetype": "text/x-python",
   "name": "python",
   "nbconvert_exporter": "python",
   "pygments_lexer": "ipython3",
   "version": "3.8.10"
  }
 },
 "nbformat": 4,
 "nbformat_minor": 5
}
