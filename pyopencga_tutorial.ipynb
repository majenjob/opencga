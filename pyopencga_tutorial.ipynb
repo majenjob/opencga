{
 "cells": [
  {
   "cell_type": "markdown",
   "id": "future-converter",
   "metadata": {},
   "source": [
    "# pyOpenCGA tutorial\n",
    "\n",
    "Link: https://pypi.org/project/pyopencga/\n",
    "\n",
    "Date: 2021-10-29"
   ]
  },
  {
   "cell_type": "code",
   "execution_count": 2,
   "id": "portable-entertainment",
   "metadata": {},
   "outputs": [
    {
     "name": "stdout",
     "output_type": "stream",
     "text": [
      "Cloning into 'opencga'...\n",
      "remote: Enumerating objects: 325927, done.\u001b[K\n",
      "remote: Counting objects: 100% (25708/25708), done.\u001b[K\n",
      "remote: Compressing objects: 100% (8180/8180), done.\u001b[K\n",
      "remote: Total 325927 (delta 10858), reused 24922 (delta 10204), pack-reused 300219\u001b[K\n",
      "Receiving objects: 100% (325927/325927), 114.13 MiB | 26.39 MiB/s, done.\n",
      "Resolving deltas: 100% (136735/136735), done.\n"
     ]
    }
   ],
   "source": [
    "# Clone from github\n",
    "! git clone https://github.com/opencb/opencga.git"
   ]
  },
  {
   "cell_type": "code",
   "execution_count": 7,
   "id": "proved-railway",
   "metadata": {},
   "outputs": [
    {
     "name": "stdout",
     "output_type": "stream",
     "text": [
      "Requirement already satisfied: pyopencga in ./pyvenv-scipy-3.8/lib/python3.8/site-packages (2.1.0)\n",
      "Requirement already satisfied: pyyaml>=3.12 in ./pyvenv-scipy-3.8/lib/python3.8/site-packages (from pyopencga) (5.4.1)\n",
      "Requirement already satisfied: requests>=2.7 in ./pyvenv-scipy-3.8/lib/python3.8/site-packages (from pyopencga) (2.25.1)\n",
      "Requirement already satisfied: pandas>=1.1.5 in ./pyvenv-scipy-3.8/lib/python3.8/site-packages (from pyopencga) (1.3.4)\n",
      "Requirement already satisfied: pathlib>=1.0.1 in ./pyvenv-scipy-3.8/lib/python3.8/site-packages (from pyopencga) (1.0.1)\n",
      "Requirement already satisfied: pip>=7.1.2 in ./pyvenv-scipy-3.8/lib/python3.8/site-packages (from pyopencga) (20.0.2)\n",
      "Requirement already satisfied: urllib3<1.27,>=1.21.1 in ./pyvenv-scipy-3.8/lib/python3.8/site-packages (from requests>=2.7->pyopencga) (1.26.3)\n",
      "Requirement already satisfied: certifi>=2017.4.17 in ./pyvenv-scipy-3.8/lib/python3.8/site-packages (from requests>=2.7->pyopencga) (2020.12.5)\n",
      "Requirement already satisfied: idna<3,>=2.5 in ./pyvenv-scipy-3.8/lib/python3.8/site-packages (from requests>=2.7->pyopencga) (2.10)\n",
      "Requirement already satisfied: chardet<5,>=3.0.2 in ./pyvenv-scipy-3.8/lib/python3.8/site-packages (from requests>=2.7->pyopencga) (4.0.0)\n",
      "Requirement already satisfied: pytz>=2017.3 in ./pyvenv-scipy-3.8/lib/python3.8/site-packages (from pandas>=1.1.5->pyopencga) (2021.1)\n",
      "Requirement already satisfied: numpy>=1.17.3; platform_machine != \"aarch64\" and platform_machine != \"arm64\" and python_version < \"3.10\" in ./pyvenv-scipy-3.8/lib/python3.8/site-packages (from pandas>=1.1.5->pyopencga) (1.20.1)\n",
      "Requirement already satisfied: python-dateutil>=2.7.3 in ./pyvenv-scipy-3.8/lib/python3.8/site-packages (from pandas>=1.1.5->pyopencga) (2.8.1)\n",
      "Requirement already satisfied: six>=1.5 in ./pyvenv-scipy-3.8/lib/python3.8/site-packages (from python-dateutil>=2.7.3->pandas>=1.1.5->pyopencga) (1.15.0)\n"
     ]
    }
   ],
   "source": [
    "# Install (virtual environment recommended)\n",
    "! source ~/bin/activate-pyvenv-scipy-3.8 \n",
    "! pip install pyopencga"
   ]
  },
  {
   "cell_type": "code",
   "execution_count": 4,
   "id": "advised-jungle",
   "metadata": {},
   "outputs": [
    {
     "name": "stdout",
     "output_type": "stream",
     "text": [
      "/bin/bash: line 0: cd: opencga/tree/develop/opencga-client/src/main/python/pyOpenCGA: No such file or directory\n",
      "python: can't open file 'setup.py': [Errno 2] No such file or directory\n"
     ]
    }
   ],
   "source": [
    "! cd opencga/tree/develop/opencga-client/src/main/python/pyOpenCGA\n",
    "! python setup.py install"
   ]
  },
  {
   "cell_type": "markdown",
   "id": "palestinian-requirement",
   "metadata": {},
   "source": [
    "## Error #1\n",
    "\n",
    "The path has changed:\n",
    "\n",
    "\n",
    "```\n",
    "mab@mab-VirtualBox:~/opencga/opencga-client/src/main/python$ ls\n",
    "LICENSE  notebooks  pyopencga  python-build.sh  README.rst  requirements.txt  setup.py\n",
    "\n",
    "```"
   ]
  },
  {
   "cell_type": "code",
   "execution_count": 3,
   "id": "british-theme",
   "metadata": {},
   "outputs": [
    {
     "name": "stdout",
     "output_type": "stream",
     "text": [
      "/home/mab/workspace/pyvenv-scipy-3.8/lib/python3.8/site-packages/setuptools/dist.py:481: UserWarning: The version specified ('PYOPENCGA_VERSION') is an invalid version, this may not work as expected with newer versions of setuptools, pip, and PyPI. Please see PEP 440 for more details.\n",
      "  warnings.warn(\n",
      "running install\n",
      "running bdist_egg\n",
      "running egg_info\n",
      "creating pyopencga.egg-info\n",
      "writing pyopencga.egg-info/PKG-INFO\n",
      "writing dependency_links to pyopencga.egg-info/dependency_links.txt\n",
      "writing requirements to pyopencga.egg-info/requires.txt\n",
      "writing top-level names to pyopencga.egg-info/top_level.txt\n",
      "writing manifest file 'pyopencga.egg-info/SOURCES.txt'\n",
      "error: package directory 'pyopencga' does not exist\n"
     ]
    }
   ],
   "source": [
    "# SOLUTION: Install the library\n",
    "! python ~/opencga/opencga-client/src/main/python/setup.py install"
   ]
  },
  {
   "cell_type": "markdown",
   "id": "pressed-venture",
   "metadata": {},
   "source": [
    "#### Import pyOpenCGA package"
   ]
  },
  {
   "cell_type": "code",
   "execution_count": 7,
   "id": "precise-territory",
   "metadata": {},
   "outputs": [],
   "source": [
    "# Import pyOpenCGA package\n",
    "from pyopencga.opencga_config import ClientConfiguration"
   ]
  },
  {
   "cell_type": "code",
   "execution_count": 2,
   "id": "congressional-storm",
   "metadata": {},
   "outputs": [
    {
     "ename": "ImportError",
     "evalue": "cannot import name 'OpenCGAClient' from 'pyopencga.opencga_client' (/home/mab/workspace/pyvenv-scipy-3.8/lib/python3.8/site-packages/pyopencga/opencga_client.py)",
     "output_type": "error",
     "traceback": [
      "\u001b[0;31m---------------------------------------------------------------------------\u001b[0m",
      "\u001b[0;31mImportError\u001b[0m                               Traceback (most recent call last)",
      "\u001b[0;32m<ipython-input-2-cc2f0f39930d>\u001b[0m in \u001b[0;36m<module>\u001b[0;34m\u001b[0m\n\u001b[0;32m----> 1\u001b[0;31m \u001b[0;32mfrom\u001b[0m \u001b[0mpyopencga\u001b[0m\u001b[0;34m.\u001b[0m\u001b[0mopencga_client\u001b[0m \u001b[0;32mimport\u001b[0m \u001b[0mOpenCGAClient\u001b[0m\u001b[0;34m\u001b[0m\u001b[0;34m\u001b[0m\u001b[0m\n\u001b[0m",
      "\u001b[0;31mImportError\u001b[0m: cannot import name 'OpenCGAClient' from 'pyopencga.opencga_client' (/home/mab/workspace/pyvenv-scipy-3.8/lib/python3.8/site-packages/pyopencga/opencga_client.py)"
     ]
    }
   ],
   "source": [
    "from pyopencga.opencga_client import OpenCGAClient"
   ]
  },
  {
   "cell_type": "markdown",
   "id": "reduced-background",
   "metadata": {},
   "source": [
    "## Error #2\n",
    "The name of the function has changed and now it is called ```OpencgaClient```.\n",
    "https://github.com/opencb/opencga/blob/develop/opencga-client/src/main/python/pyopencga/opencga_client.py"
   ]
  },
  {
   "cell_type": "code",
   "execution_count": 6,
   "id": "documentary-conclusion",
   "metadata": {},
   "outputs": [],
   "source": [
    "# Correct name of the function\n",
    "from pyopencga.opencga_client import OpencgaClient"
   ]
  },
  {
   "cell_type": "markdown",
   "id": "gentle-calvin",
   "metadata": {},
   "source": [
    "#### Setting up server host configuration"
   ]
  },
  {
   "cell_type": "code",
   "execution_count": 4,
   "id": "approximate-vessel",
   "metadata": {},
   "outputs": [
    {
     "ename": "OSError",
     "evalue": "Unable to read file \"/opt/opencga/conf/client-configuration.yml\"",
     "output_type": "error",
     "traceback": [
      "\u001b[0;31m---------------------------------------------------------------------------\u001b[0m",
      "\u001b[0;31mFileNotFoundError\u001b[0m                         Traceback (most recent call last)",
      "\u001b[0;32m~/workspace/pyvenv-scipy-3.8/lib/python3.8/site-packages/pyopencga/opencga_config.py\u001b[0m in \u001b[0;36m_get_dictionary_from_file\u001b[0;34m(self, config_fpath)\u001b[0m\n\u001b[1;32m     33\u001b[0m         \u001b[0;32mtry\u001b[0m\u001b[0;34m:\u001b[0m\u001b[0;34m\u001b[0m\u001b[0;34m\u001b[0m\u001b[0m\n\u001b[0;32m---> 34\u001b[0;31m             \u001b[0mconfig_fhand\u001b[0m \u001b[0;34m=\u001b[0m \u001b[0mopen\u001b[0m\u001b[0;34m(\u001b[0m\u001b[0mconfig_fpath\u001b[0m\u001b[0;34m,\u001b[0m \u001b[0;34m'r'\u001b[0m\u001b[0;34m)\u001b[0m\u001b[0;34m\u001b[0m\u001b[0;34m\u001b[0m\u001b[0m\n\u001b[0m\u001b[1;32m     35\u001b[0m         \u001b[0;32mexcept\u001b[0m\u001b[0;34m:\u001b[0m\u001b[0;34m\u001b[0m\u001b[0;34m\u001b[0m\u001b[0m\n",
      "\u001b[0;31mFileNotFoundError\u001b[0m: [Errno 2] No such file or directory: '/opt/opencga/conf/client-configuration.yml'",
      "\nDuring handling of the above exception, another exception occurred:\n",
      "\u001b[0;31mOSError\u001b[0m                                   Traceback (most recent call last)",
      "\u001b[0;32m<ipython-input-4-a2d50618c079>\u001b[0m in \u001b[0;36m<module>\u001b[0;34m\u001b[0m\n\u001b[1;32m      1\u001b[0m \u001b[0;31m# Setting up server host configuration\u001b[0m\u001b[0;34m\u001b[0m\u001b[0;34m\u001b[0m\u001b[0;34m\u001b[0m\u001b[0m\n\u001b[0;32m----> 2\u001b[0;31m \u001b[0mconfig\u001b[0m \u001b[0;34m=\u001b[0m \u001b[0mClientConfiguration\u001b[0m\u001b[0;34m(\u001b[0m\u001b[0;34m'/opt/opencga/conf/client-configuration.yml'\u001b[0m\u001b[0;34m)\u001b[0m\u001b[0;34m\u001b[0m\u001b[0;34m\u001b[0m\u001b[0m\n\u001b[0m",
      "\u001b[0;32m~/workspace/pyvenv-scipy-3.8/lib/python3.8/site-packages/pyopencga/opencga_config.py\u001b[0m in \u001b[0;36m__init__\u001b[0;34m(self, config_input)\u001b[0m\n\u001b[1;32m     26\u001b[0m             \u001b[0mself\u001b[0m\u001b[0;34m.\u001b[0m\u001b[0m_config\u001b[0m \u001b[0;34m=\u001b[0m \u001b[0mconfig_input\u001b[0m\u001b[0;34m\u001b[0m\u001b[0;34m\u001b[0m\u001b[0m\n\u001b[1;32m     27\u001b[0m         \u001b[0;32melse\u001b[0m\u001b[0;34m:\u001b[0m\u001b[0;34m\u001b[0m\u001b[0;34m\u001b[0m\u001b[0m\n\u001b[0;32m---> 28\u001b[0;31m             \u001b[0mself\u001b[0m\u001b[0;34m.\u001b[0m\u001b[0m_config\u001b[0m \u001b[0;34m=\u001b[0m \u001b[0mself\u001b[0m\u001b[0;34m.\u001b[0m\u001b[0m_get_dictionary_from_file\u001b[0m\u001b[0;34m(\u001b[0m\u001b[0mconfig_input\u001b[0m\u001b[0;34m)\u001b[0m\u001b[0;34m\u001b[0m\u001b[0;34m\u001b[0m\u001b[0m\n\u001b[0m\u001b[1;32m     29\u001b[0m \u001b[0;34m\u001b[0m\u001b[0m\n\u001b[1;32m     30\u001b[0m         \u001b[0mself\u001b[0m\u001b[0;34m.\u001b[0m\u001b[0m_validate_configuration\u001b[0m\u001b[0;34m(\u001b[0m\u001b[0mself\u001b[0m\u001b[0;34m.\u001b[0m\u001b[0m_config\u001b[0m\u001b[0;34m)\u001b[0m\u001b[0;34m\u001b[0m\u001b[0;34m\u001b[0m\u001b[0m\n",
      "\u001b[0;32m~/workspace/pyvenv-scipy-3.8/lib/python3.8/site-packages/pyopencga/opencga_config.py\u001b[0m in \u001b[0;36m_get_dictionary_from_file\u001b[0;34m(self, config_fpath)\u001b[0m\n\u001b[1;32m     35\u001b[0m         \u001b[0;32mexcept\u001b[0m\u001b[0;34m:\u001b[0m\u001b[0;34m\u001b[0m\u001b[0;34m\u001b[0m\u001b[0m\n\u001b[1;32m     36\u001b[0m             \u001b[0mmsg\u001b[0m \u001b[0;34m=\u001b[0m \u001b[0;34m'Unable to read file \"'\u001b[0m \u001b[0;34m+\u001b[0m \u001b[0mconfig_fpath\u001b[0m \u001b[0;34m+\u001b[0m \u001b[0;34m'\"'\u001b[0m\u001b[0;34m\u001b[0m\u001b[0;34m\u001b[0m\u001b[0m\n\u001b[0;32m---> 37\u001b[0;31m             \u001b[0;32mraise\u001b[0m \u001b[0mIOError\u001b[0m\u001b[0;34m(\u001b[0m\u001b[0mmsg\u001b[0m\u001b[0;34m)\u001b[0m\u001b[0;34m\u001b[0m\u001b[0;34m\u001b[0m\u001b[0m\n\u001b[0m\u001b[1;32m     38\u001b[0m \u001b[0;34m\u001b[0m\u001b[0m\n\u001b[1;32m     39\u001b[0m         \u001b[0mconfig_dict\u001b[0m \u001b[0;34m=\u001b[0m \u001b[0;32mNone\u001b[0m\u001b[0;34m\u001b[0m\u001b[0;34m\u001b[0m\u001b[0m\n",
      "\u001b[0;31mOSError\u001b[0m: Unable to read file \"/opt/opencga/conf/client-configuration.yml\""
     ]
    }
   ],
   "source": [
    "# Setting up server host configuration\n",
    "config = ClientConfiguration('/opt/opencga/conf/client-configuration.yml')"
   ]
  },
  {
   "cell_type": "markdown",
   "id": "brave-officer",
   "metadata": {},
   "source": [
    "## Error #3\n",
    "\n",
    "File does not exist??? The path has changed: opencga/opencga-client/src/main/resources/client-configuration.yml"
   ]
  },
  {
   "cell_type": "code",
   "execution_count": 8,
   "id": "adult-killing",
   "metadata": {},
   "outputs": [
    {
     "ename": "OSError",
     "evalue": "Unable to read file \"~/opencga/opencga-client/src/main/resources/client-configuration.yml\"",
     "output_type": "error",
     "traceback": [
      "\u001b[0;31m---------------------------------------------------------------------------\u001b[0m",
      "\u001b[0;31mFileNotFoundError\u001b[0m                         Traceback (most recent call last)",
      "\u001b[0;32m~/workspace/pyvenv-scipy-3.8/lib/python3.8/site-packages/pyopencga/opencga_config.py\u001b[0m in \u001b[0;36m_get_dictionary_from_file\u001b[0;34m(self, config_fpath)\u001b[0m\n\u001b[1;32m     33\u001b[0m         \u001b[0;32mtry\u001b[0m\u001b[0;34m:\u001b[0m\u001b[0;34m\u001b[0m\u001b[0;34m\u001b[0m\u001b[0m\n\u001b[0;32m---> 34\u001b[0;31m             \u001b[0mconfig_fhand\u001b[0m \u001b[0;34m=\u001b[0m \u001b[0mopen\u001b[0m\u001b[0;34m(\u001b[0m\u001b[0mconfig_fpath\u001b[0m\u001b[0;34m,\u001b[0m \u001b[0;34m'r'\u001b[0m\u001b[0;34m)\u001b[0m\u001b[0;34m\u001b[0m\u001b[0;34m\u001b[0m\u001b[0m\n\u001b[0m\u001b[1;32m     35\u001b[0m         \u001b[0;32mexcept\u001b[0m\u001b[0;34m:\u001b[0m\u001b[0;34m\u001b[0m\u001b[0;34m\u001b[0m\u001b[0m\n",
      "\u001b[0;31mFileNotFoundError\u001b[0m: [Errno 2] No such file or directory: '~/opencga/opencga-client/src/main/resources/client-configuration.yml'",
      "\nDuring handling of the above exception, another exception occurred:\n",
      "\u001b[0;31mOSError\u001b[0m                                   Traceback (most recent call last)",
      "\u001b[0;32m<ipython-input-8-fa0266991c4c>\u001b[0m in \u001b[0;36m<module>\u001b[0;34m\u001b[0m\n\u001b[1;32m      1\u001b[0m \u001b[0;31m# SOLUTION\u001b[0m\u001b[0;34m\u001b[0m\u001b[0;34m\u001b[0m\u001b[0;34m\u001b[0m\u001b[0m\n\u001b[1;32m      2\u001b[0m \u001b[0;31m# Setting up server host configuration\u001b[0m\u001b[0;34m\u001b[0m\u001b[0;34m\u001b[0m\u001b[0;34m\u001b[0m\u001b[0m\n\u001b[0;32m----> 3\u001b[0;31m \u001b[0mconfig\u001b[0m \u001b[0;34m=\u001b[0m \u001b[0mClientConfiguration\u001b[0m\u001b[0;34m(\u001b[0m\u001b[0;34m'~/opencga/opencga-client/src/main/resources/client-configuration.yml'\u001b[0m\u001b[0;34m)\u001b[0m\u001b[0;34m\u001b[0m\u001b[0;34m\u001b[0m\u001b[0m\n\u001b[0m",
      "\u001b[0;32m~/workspace/pyvenv-scipy-3.8/lib/python3.8/site-packages/pyopencga/opencga_config.py\u001b[0m in \u001b[0;36m__init__\u001b[0;34m(self, config_input)\u001b[0m\n\u001b[1;32m     26\u001b[0m             \u001b[0mself\u001b[0m\u001b[0;34m.\u001b[0m\u001b[0m_config\u001b[0m \u001b[0;34m=\u001b[0m \u001b[0mconfig_input\u001b[0m\u001b[0;34m\u001b[0m\u001b[0;34m\u001b[0m\u001b[0m\n\u001b[1;32m     27\u001b[0m         \u001b[0;32melse\u001b[0m\u001b[0;34m:\u001b[0m\u001b[0;34m\u001b[0m\u001b[0;34m\u001b[0m\u001b[0m\n\u001b[0;32m---> 28\u001b[0;31m             \u001b[0mself\u001b[0m\u001b[0;34m.\u001b[0m\u001b[0m_config\u001b[0m \u001b[0;34m=\u001b[0m \u001b[0mself\u001b[0m\u001b[0;34m.\u001b[0m\u001b[0m_get_dictionary_from_file\u001b[0m\u001b[0;34m(\u001b[0m\u001b[0mconfig_input\u001b[0m\u001b[0;34m)\u001b[0m\u001b[0;34m\u001b[0m\u001b[0;34m\u001b[0m\u001b[0m\n\u001b[0m\u001b[1;32m     29\u001b[0m \u001b[0;34m\u001b[0m\u001b[0m\n\u001b[1;32m     30\u001b[0m         \u001b[0mself\u001b[0m\u001b[0;34m.\u001b[0m\u001b[0m_validate_configuration\u001b[0m\u001b[0;34m(\u001b[0m\u001b[0mself\u001b[0m\u001b[0;34m.\u001b[0m\u001b[0m_config\u001b[0m\u001b[0;34m)\u001b[0m\u001b[0;34m\u001b[0m\u001b[0;34m\u001b[0m\u001b[0m\n",
      "\u001b[0;32m~/workspace/pyvenv-scipy-3.8/lib/python3.8/site-packages/pyopencga/opencga_config.py\u001b[0m in \u001b[0;36m_get_dictionary_from_file\u001b[0;34m(self, config_fpath)\u001b[0m\n\u001b[1;32m     35\u001b[0m         \u001b[0;32mexcept\u001b[0m\u001b[0;34m:\u001b[0m\u001b[0;34m\u001b[0m\u001b[0;34m\u001b[0m\u001b[0m\n\u001b[1;32m     36\u001b[0m             \u001b[0mmsg\u001b[0m \u001b[0;34m=\u001b[0m \u001b[0;34m'Unable to read file \"'\u001b[0m \u001b[0;34m+\u001b[0m \u001b[0mconfig_fpath\u001b[0m \u001b[0;34m+\u001b[0m \u001b[0;34m'\"'\u001b[0m\u001b[0;34m\u001b[0m\u001b[0;34m\u001b[0m\u001b[0m\n\u001b[0;32m---> 37\u001b[0;31m             \u001b[0;32mraise\u001b[0m \u001b[0mIOError\u001b[0m\u001b[0;34m(\u001b[0m\u001b[0mmsg\u001b[0m\u001b[0;34m)\u001b[0m\u001b[0;34m\u001b[0m\u001b[0;34m\u001b[0m\u001b[0m\n\u001b[0m\u001b[1;32m     38\u001b[0m \u001b[0;34m\u001b[0m\u001b[0m\n\u001b[1;32m     39\u001b[0m         \u001b[0mconfig_dict\u001b[0m \u001b[0;34m=\u001b[0m \u001b[0;32mNone\u001b[0m\u001b[0;34m\u001b[0m\u001b[0;34m\u001b[0m\u001b[0m\n",
      "\u001b[0;31mOSError\u001b[0m: Unable to read file \"~/opencga/opencga-client/src/main/resources/client-configuration.yml\""
     ]
    }
   ],
   "source": [
    "# SOLUTION\n",
    "# Setting up server host configuration\n",
    "config = ClientConfiguration('~/opencga/opencga-client/src/main/resources/client-configuration.yml')"
   ]
  },
  {
   "cell_type": "code",
   "execution_count": 9,
   "id": "engaged-there",
   "metadata": {},
   "outputs": [],
   "source": [
    "config = ClientConfiguration({\n",
    "        \"rest\": {\n",
    "                \"host\": \"http://bioinfo.hpc.cam.ac.uk/opencga-demo\"\n",
    "        }\n",
    "    })"
   ]
  },
  {
   "cell_type": "markdown",
   "id": "subjective-cherry",
   "metadata": {},
   "source": [
    "#### Log in OpenCGA host server"
   ]
  },
  {
   "cell_type": "code",
   "execution_count": 11,
   "id": "developed-sheep",
   "metadata": {},
   "outputs": [
    {
     "ename": "NameError",
     "evalue": "name 'OpenCGAClient' is not defined",
     "output_type": "error",
     "traceback": [
      "\u001b[0;31m---------------------------------------------------------------------------\u001b[0m",
      "\u001b[0;31mNameError\u001b[0m                                 Traceback (most recent call last)",
      "\u001b[0;32m<ipython-input-11-b067099a4003>\u001b[0m in \u001b[0;36m<module>\u001b[0;34m\u001b[0m\n\u001b[0;32m----> 1\u001b[0;31m \u001b[0moc\u001b[0m \u001b[0;34m=\u001b[0m \u001b[0mOpenCGAClient\u001b[0m\u001b[0;34m(\u001b[0m\u001b[0mconfig\u001b[0m\u001b[0;34m)\u001b[0m\u001b[0;34m\u001b[0m\u001b[0;34m\u001b[0m\u001b[0m\n\u001b[0m\u001b[1;32m      2\u001b[0m \u001b[0moc\u001b[0m\u001b[0;34m.\u001b[0m\u001b[0mlogin\u001b[0m\u001b[0;34m(\u001b[0m\u001b[0;34m'demouser'\u001b[0m\u001b[0;34m)\u001b[0m\u001b[0;34m\u001b[0m\u001b[0;34m\u001b[0m\u001b[0m\n",
      "\u001b[0;31mNameError\u001b[0m: name 'OpenCGAClient' is not defined"
     ]
    }
   ],
   "source": [
    "oc = OpenCGAClient(config)\n",
    "oc.login('demouser')"
   ]
  },
  {
   "cell_type": "markdown",
   "id": "norwegian-scheme",
   "metadata": {},
   "source": [
    "## Error #4\n",
    "\n",
    "Same error as Error #2: the name of the function has changed."
   ]
  },
  {
   "cell_type": "code",
   "execution_count": 12,
   "id": "falling-underground",
   "metadata": {},
   "outputs": [
    {
     "name": "stdout",
     "output_type": "stream",
     "text": [
      "\u001b[31m[WARNING]: Client version (2.0.3) is higher than server version (1.4.1). Some client features may not be implemented in the server.\n",
      "\u001b[0m"
     ]
    },
    {
     "name": "stdin",
     "output_type": "stream",
     "text": [
      " ········\n"
     ]
    },
    {
     "ename": "Exception",
     "evalue": "b'<!DOCTYPE html><html><head><title>Apache Tomcat/8.0.51 - Error report</title><style type=\"text/css\">H1 {font-family:Tahoma,Arial,sans-serif;color:white;background-color:#525D76;font-size:22px;} H2 {font-family:Tahoma,Arial,sans-serif;color:white;background-color:#525D76;font-size:16px;} H3 {font-family:Tahoma,Arial,sans-serif;color:white;background-color:#525D76;font-size:14px;} BODY {font-family:Tahoma,Arial,sans-serif;color:black;background-color:white;} B {font-family:Tahoma,Arial,sans-serif;color:white;background-color:#525D76;} P {font-family:Tahoma,Arial,sans-serif;background:white;color:black;font-size:12px;}A {color : black;}A.name {color : black;}.line {height: 1px; background-color: #525D76; border: none;}</style> </head><body><h1>HTTP Status 404 - Not Found</h1><div class=\"line\"></div><p><b>type</b> Status report</p><p><b>message</b> <u>Not Found</u></p><p><b>description</b> <u>The requested resource is not available.</u></p><hr class=\"line\"><h3>Apache Tomcat/8.0.51</h3></body></html>'",
     "output_type": "error",
     "traceback": [
      "\u001b[0;31m---------------------------------------------------------------------------\u001b[0m",
      "\u001b[0;31mException\u001b[0m                                 Traceback (most recent call last)",
      "\u001b[0;32m<ipython-input-12-7bd14904157f>\u001b[0m in \u001b[0;36m<module>\u001b[0;34m\u001b[0m\n\u001b[1;32m      1\u001b[0m \u001b[0moc\u001b[0m \u001b[0;34m=\u001b[0m \u001b[0mOpencgaClient\u001b[0m\u001b[0;34m(\u001b[0m\u001b[0mconfig\u001b[0m\u001b[0;34m)\u001b[0m\u001b[0;34m\u001b[0m\u001b[0;34m\u001b[0m\u001b[0m\n\u001b[0;32m----> 2\u001b[0;31m \u001b[0moc\u001b[0m\u001b[0;34m.\u001b[0m\u001b[0mlogin\u001b[0m\u001b[0;34m(\u001b[0m\u001b[0;34m'demouser'\u001b[0m\u001b[0;34m)\u001b[0m\u001b[0;34m\u001b[0m\u001b[0;34m\u001b[0m\u001b[0m\n\u001b[0m",
      "\u001b[0;32m~/workspace/pyvenv-scipy-3.8/lib/python3.8/site-packages/pyopencga/opencga_client.py\u001b[0m in \u001b[0;36mlogin\u001b[0;34m(self, user, password)\u001b[0m\n\u001b[1;32m    128\u001b[0m \u001b[0;34m\u001b[0m\u001b[0m\n\u001b[1;32m    129\u001b[0m         \u001b[0mself\u001b[0m\u001b[0;34m.\u001b[0m\u001b[0m_login_handler\u001b[0m \u001b[0;34m=\u001b[0m \u001b[0mself\u001b[0m\u001b[0;34m.\u001b[0m\u001b[0m_make_login_handler\u001b[0m\u001b[0;34m(\u001b[0m\u001b[0muser\u001b[0m\u001b[0;34m,\u001b[0m \u001b[0mpassword\u001b[0m\u001b[0;34m)\u001b[0m\u001b[0;34m\u001b[0m\u001b[0;34m\u001b[0m\u001b[0m\n\u001b[0;32m--> 130\u001b[0;31m         \u001b[0mself\u001b[0m\u001b[0;34m.\u001b[0m\u001b[0m_login_handler\u001b[0m\u001b[0;34m(\u001b[0m\u001b[0;34m)\u001b[0m\u001b[0;34m\u001b[0m\u001b[0;34m\u001b[0m\u001b[0m\n\u001b[0m\u001b[1;32m    131\u001b[0m \u001b[0;34m\u001b[0m\u001b[0m\n\u001b[1;32m    132\u001b[0m     \u001b[0;32mdef\u001b[0m \u001b[0mlogout\u001b[0m\u001b[0;34m(\u001b[0m\u001b[0mself\u001b[0m\u001b[0;34m)\u001b[0m\u001b[0;34m:\u001b[0m\u001b[0;34m\u001b[0m\u001b[0;34m\u001b[0m\u001b[0m\n",
      "\u001b[0;32m~/workspace/pyvenv-scipy-3.8/lib/python3.8/site-packages/pyopencga/opencga_client.py\u001b[0m in \u001b[0;36mlogin_handler\u001b[0;34m(refresh)\u001b[0m\n\u001b[1;32m    109\u001b[0m             \u001b[0;32melse\u001b[0m\u001b[0;34m:\u001b[0m\u001b[0;34m\u001b[0m\u001b[0;34m\u001b[0m\u001b[0m\n\u001b[1;32m    110\u001b[0m                 \u001b[0mdata\u001b[0m \u001b[0;34m=\u001b[0m \u001b[0;34m{\u001b[0m\u001b[0;34m'user'\u001b[0m\u001b[0;34m:\u001b[0m \u001b[0muser\u001b[0m\u001b[0;34m,\u001b[0m \u001b[0;34m'password'\u001b[0m\u001b[0;34m:\u001b[0m \u001b[0mpassword\u001b[0m\u001b[0;34m}\u001b[0m\u001b[0;34m\u001b[0m\u001b[0;34m\u001b[0m\u001b[0m\n\u001b[0;32m--> 111\u001b[0;31m             \u001b[0mtokens\u001b[0m \u001b[0;34m=\u001b[0m \u001b[0mUser\u001b[0m\u001b[0;34m(\u001b[0m\u001b[0mself\u001b[0m\u001b[0;34m.\u001b[0m\u001b[0mconfiguration\u001b[0m\u001b[0;34m)\u001b[0m\u001b[0;34m.\u001b[0m\u001b[0mlogin\u001b[0m\u001b[0;34m(\u001b[0m\u001b[0mdata\u001b[0m\u001b[0;34m=\u001b[0m\u001b[0mdata\u001b[0m\u001b[0;34m)\u001b[0m\u001b[0;34m.\u001b[0m\u001b[0mget_result\u001b[0m\u001b[0;34m(\u001b[0m\u001b[0;36m0\u001b[0m\u001b[0;34m)\u001b[0m\u001b[0;34m\u001b[0m\u001b[0;34m\u001b[0m\u001b[0m\n\u001b[0m\u001b[1;32m    112\u001b[0m             \u001b[0mself\u001b[0m\u001b[0;34m.\u001b[0m\u001b[0mtoken\u001b[0m \u001b[0;34m=\u001b[0m \u001b[0mtokens\u001b[0m\u001b[0;34m[\u001b[0m\u001b[0;34m'token'\u001b[0m\u001b[0;34m]\u001b[0m\u001b[0;34m\u001b[0m\u001b[0;34m\u001b[0m\u001b[0m\n\u001b[1;32m    113\u001b[0m             \u001b[0mself\u001b[0m\u001b[0;34m.\u001b[0m\u001b[0mrefresh_token\u001b[0m \u001b[0;34m=\u001b[0m \u001b[0mtokens\u001b[0m\u001b[0;34m[\u001b[0m\u001b[0;34m'refreshToken'\u001b[0m\u001b[0;34m]\u001b[0m\u001b[0;34m\u001b[0m\u001b[0;34m\u001b[0m\u001b[0m\n",
      "\u001b[0;32m~/workspace/pyvenv-scipy-3.8/lib/python3.8/site-packages/pyopencga/rest_clients/user_client.py\u001b[0m in \u001b[0;36mlogin\u001b[0;34m(self, data, **options)\u001b[0m\n\u001b[1;32m     40\u001b[0m         \"\"\"\n\u001b[1;32m     41\u001b[0m \u001b[0;34m\u001b[0m\u001b[0m\n\u001b[0;32m---> 42\u001b[0;31m         \u001b[0;32mreturn\u001b[0m \u001b[0mself\u001b[0m\u001b[0;34m.\u001b[0m\u001b[0m_post\u001b[0m\u001b[0;34m(\u001b[0m\u001b[0mcategory\u001b[0m\u001b[0;34m=\u001b[0m\u001b[0;34m'users'\u001b[0m\u001b[0;34m,\u001b[0m \u001b[0mresource\u001b[0m\u001b[0;34m=\u001b[0m\u001b[0;34m'login'\u001b[0m\u001b[0;34m,\u001b[0m \u001b[0mdata\u001b[0m\u001b[0;34m=\u001b[0m\u001b[0mdata\u001b[0m\u001b[0;34m,\u001b[0m \u001b[0;34m**\u001b[0m\u001b[0moptions\u001b[0m\u001b[0;34m)\u001b[0m\u001b[0;34m\u001b[0m\u001b[0;34m\u001b[0m\u001b[0m\n\u001b[0m\u001b[1;32m     43\u001b[0m \u001b[0;34m\u001b[0m\u001b[0m\n\u001b[1;32m     44\u001b[0m     \u001b[0;32mdef\u001b[0m \u001b[0mpassword\u001b[0m\u001b[0;34m(\u001b[0m\u001b[0mself\u001b[0m\u001b[0;34m,\u001b[0m \u001b[0mdata\u001b[0m\u001b[0;34m=\u001b[0m\u001b[0;32mNone\u001b[0m\u001b[0;34m,\u001b[0m \u001b[0;34m**\u001b[0m\u001b[0moptions\u001b[0m\u001b[0;34m)\u001b[0m\u001b[0;34m:\u001b[0m\u001b[0;34m\u001b[0m\u001b[0;34m\u001b[0m\u001b[0m\n",
      "\u001b[0;32m~/workspace/pyvenv-scipy-3.8/lib/python3.8/site-packages/pyopencga/rest_clients/_parent_rest_clients.py\u001b[0m in \u001b[0;36m_post\u001b[0;34m(self, category, resource, data, query_id, subcategory, second_query_id, **options)\u001b[0m\n\u001b[1;32m     83\u001b[0m         \u001b[0;34m\"\"\"Queries the REST service and returns the result\"\"\"\u001b[0m\u001b[0;34m\u001b[0m\u001b[0;34m\u001b[0m\u001b[0m\n\u001b[1;32m     84\u001b[0m         \u001b[0;32mif\u001b[0m \u001b[0mdata\u001b[0m \u001b[0;32mis\u001b[0m \u001b[0;32mnot\u001b[0m \u001b[0;32mNone\u001b[0m\u001b[0;34m:\u001b[0m\u001b[0;34m\u001b[0m\u001b[0;34m\u001b[0m\u001b[0m\n\u001b[0;32m---> 85\u001b[0;31m             return self._rest_retry(\n\u001b[0m\u001b[1;32m     86\u001b[0m                 \u001b[0mmethod\u001b[0m\u001b[0;34m=\u001b[0m\u001b[0;34m'post'\u001b[0m\u001b[0;34m,\u001b[0m \u001b[0mcategory\u001b[0m\u001b[0;34m=\u001b[0m\u001b[0mcategory\u001b[0m\u001b[0;34m,\u001b[0m \u001b[0mresource\u001b[0m\u001b[0;34m=\u001b[0m\u001b[0mresource\u001b[0m\u001b[0;34m,\u001b[0m \u001b[0mquery_id\u001b[0m\u001b[0;34m=\u001b[0m\u001b[0mquery_id\u001b[0m\u001b[0;34m,\u001b[0m\u001b[0;34m\u001b[0m\u001b[0;34m\u001b[0m\u001b[0m\n\u001b[1;32m     87\u001b[0m                 \u001b[0msubcategory\u001b[0m\u001b[0;34m=\u001b[0m\u001b[0msubcategory\u001b[0m\u001b[0;34m,\u001b[0m \u001b[0msecond_query_id\u001b[0m\u001b[0;34m=\u001b[0m\u001b[0msecond_query_id\u001b[0m\u001b[0;34m,\u001b[0m\u001b[0;34m\u001b[0m\u001b[0;34m\u001b[0m\u001b[0m\n",
      "\u001b[0;32m~/workspace/pyvenv-scipy-3.8/lib/python3.8/site-packages/pyopencga/rest_clients/_parent_rest_clients.py\u001b[0m in \u001b[0;36m_rest_retry\u001b[0;34m(self, method, category, resource, query_id, subcategory, second_query_id, data, dont_retry, **options)\u001b[0m\n\u001b[1;32m     60\u001b[0m                 ))\n\u001b[1;32m     61\u001b[0m \u001b[0;34m\u001b[0m\u001b[0m\n\u001b[0;32m---> 62\u001b[0;31m         response = retry(\n\u001b[0m\u001b[1;32m     63\u001b[0m             \u001b[0mexec_retry\u001b[0m\u001b[0;34m,\u001b[0m \u001b[0mself\u001b[0m\u001b[0;34m.\u001b[0m\u001b[0m_cfg\u001b[0m\u001b[0;34m.\u001b[0m\u001b[0mmax_attempts\u001b[0m\u001b[0;34m,\u001b[0m \u001b[0mself\u001b[0m\u001b[0;34m.\u001b[0m\u001b[0m_cfg\u001b[0m\u001b[0;34m.\u001b[0m\u001b[0mmin_retry_secs\u001b[0m\u001b[0;34m,\u001b[0m\u001b[0;34m\u001b[0m\u001b[0;34m\u001b[0m\u001b[0m\n\u001b[1;32m     64\u001b[0m             \u001b[0mself\u001b[0m\u001b[0;34m.\u001b[0m\u001b[0m_cfg\u001b[0m\u001b[0;34m.\u001b[0m\u001b[0mmax_retry_secs\u001b[0m\u001b[0;34m,\u001b[0m \u001b[0mlogin_handler\u001b[0m\u001b[0;34m=\u001b[0m\u001b[0mself\u001b[0m\u001b[0;34m.\u001b[0m\u001b[0mlogin_handler\u001b[0m\u001b[0;34m,\u001b[0m\u001b[0;34m\u001b[0m\u001b[0;34m\u001b[0m\u001b[0m\n",
      "\u001b[0;32m~/workspace/pyvenv-scipy-3.8/lib/python3.8/site-packages/pyopencga/retry.py\u001b[0m in \u001b[0;36mretry\u001b[0;34m(func, max_attempts, initial_retry_seconds, max_retry_seconds, login_handler, on_retry, dont_retry)\u001b[0m\n\u001b[1;32m     34\u001b[0m     \u001b[0;32mwhile\u001b[0m \u001b[0;32mTrue\u001b[0m\u001b[0;34m:\u001b[0m\u001b[0;34m\u001b[0m\u001b[0;34m\u001b[0m\u001b[0m\n\u001b[1;32m     35\u001b[0m         \u001b[0;32mtry\u001b[0m\u001b[0;34m:\u001b[0m\u001b[0;34m\u001b[0m\u001b[0;34m\u001b[0m\u001b[0m\n\u001b[0;32m---> 36\u001b[0;31m             \u001b[0;32mreturn\u001b[0m \u001b[0mfunc\u001b[0m\u001b[0;34m(\u001b[0m\u001b[0;34m)\u001b[0m\u001b[0;34m\u001b[0m\u001b[0;34m\u001b[0m\u001b[0m\n\u001b[0m\u001b[1;32m     37\u001b[0m         \u001b[0;32mexcept\u001b[0m \u001b[0mOpencgaInvalidToken\u001b[0m \u001b[0;32mas\u001b[0m \u001b[0me\u001b[0m\u001b[0;34m:\u001b[0m\u001b[0;34m\u001b[0m\u001b[0;34m\u001b[0m\u001b[0m\n\u001b[1;32m     38\u001b[0m \u001b[0;34m\u001b[0m\u001b[0m\n",
      "\u001b[0;32m~/workspace/pyvenv-scipy-3.8/lib/python3.8/site-packages/pyopencga/rest_clients/_parent_rest_clients.py\u001b[0m in \u001b[0;36mexec_retry\u001b[0;34m()\u001b[0m\n\u001b[1;32m     39\u001b[0m \u001b[0;34m\u001b[0m\u001b[0m\n\u001b[1;32m     40\u001b[0m         \u001b[0;32mdef\u001b[0m \u001b[0mexec_retry\u001b[0m\u001b[0;34m(\u001b[0m\u001b[0;34m)\u001b[0m\u001b[0;34m:\u001b[0m\u001b[0;34m\u001b[0m\u001b[0;34m\u001b[0m\u001b[0m\n\u001b[0;32m---> 41\u001b[0;31m             return execute(host=self._cfg.host,\n\u001b[0m\u001b[1;32m     42\u001b[0m                            \u001b[0mversion\u001b[0m\u001b[0;34m=\u001b[0m\u001b[0mself\u001b[0m\u001b[0;34m.\u001b[0m\u001b[0m_cfg\u001b[0m\u001b[0;34m.\u001b[0m\u001b[0mversion\u001b[0m\u001b[0;34m,\u001b[0m\u001b[0;34m\u001b[0m\u001b[0;34m\u001b[0m\u001b[0m\n\u001b[1;32m     43\u001b[0m                            \u001b[0msid\u001b[0m\u001b[0;34m=\u001b[0m\u001b[0mself\u001b[0m\u001b[0;34m.\u001b[0m\u001b[0mtoken\u001b[0m\u001b[0;34m,\u001b[0m\u001b[0;34m\u001b[0m\u001b[0;34m\u001b[0m\u001b[0m\n",
      "\u001b[0;32m~/workspace/pyvenv-scipy-3.8/lib/python3.8/site-packages/pyopencga/commons.py\u001b[0m in \u001b[0;36mexecute\u001b[0;34m(host, version, sid, category, resource, method, subcategory, query_id, second_query_id, data, options)\u001b[0m\n\u001b[1;32m    282\u001b[0m     \u001b[0;31m# Multithread if the number of queries is greater than _CALL_BATCH_SIZE\u001b[0m\u001b[0;34m\u001b[0m\u001b[0;34m\u001b[0m\u001b[0;34m\u001b[0m\u001b[0m\n\u001b[1;32m    283\u001b[0m     \u001b[0;32mif\u001b[0m \u001b[0mquery_id\u001b[0m \u001b[0;32mis\u001b[0m \u001b[0;32mNone\u001b[0m \u001b[0;32mor\u001b[0m \u001b[0mlen\u001b[0m\u001b[0;34m(\u001b[0m\u001b[0mquery_id\u001b[0m\u001b[0;34m.\u001b[0m\u001b[0msplit\u001b[0m\u001b[0;34m(\u001b[0m\u001b[0;34m','\u001b[0m\u001b[0;34m)\u001b[0m\u001b[0;34m)\u001b[0m \u001b[0;34m<=\u001b[0m \u001b[0m_CALL_BATCH_SIZE\u001b[0m\u001b[0;34m:\u001b[0m\u001b[0;34m\u001b[0m\u001b[0;34m\u001b[0m\u001b[0m\n\u001b[0;32m--> 284\u001b[0;31m         response = _fetch(host=host, version=version, sid=sid, category=category, subcategory=subcategory,\n\u001b[0m\u001b[1;32m    285\u001b[0m                           \u001b[0mresource\u001b[0m\u001b[0;34m=\u001b[0m\u001b[0mresource\u001b[0m\u001b[0;34m,\u001b[0m \u001b[0mmethod\u001b[0m\u001b[0;34m=\u001b[0m\u001b[0mmethod\u001b[0m\u001b[0;34m,\u001b[0m \u001b[0mdata\u001b[0m\u001b[0;34m=\u001b[0m\u001b[0mdata\u001b[0m\u001b[0;34m,\u001b[0m \u001b[0mquery_id\u001b[0m\u001b[0;34m=\u001b[0m\u001b[0mquery_id\u001b[0m\u001b[0;34m,\u001b[0m\u001b[0;34m\u001b[0m\u001b[0;34m\u001b[0m\u001b[0m\n\u001b[1;32m    286\u001b[0m                           second_query_id=second_query_id, options=options)\n",
      "\u001b[0;32m~/workspace/pyvenv-scipy-3.8/lib/python3.8/site-packages/pyopencga/commons.py\u001b[0m in \u001b[0;36m_fetch\u001b[0;34m(host, version, sid, category, resource, method, subcategory, query_id, second_query_id, data, options)\u001b[0m\n\u001b[1;32m    172\u001b[0m \u001b[0;34m\u001b[0m\u001b[0m\n\u001b[1;32m    173\u001b[0m         \u001b[0;32melif\u001b[0m \u001b[0mr\u001b[0m\u001b[0;34m.\u001b[0m\u001b[0mstatus_code\u001b[0m \u001b[0;34m!=\u001b[0m \u001b[0;36m200\u001b[0m\u001b[0;34m:\u001b[0m\u001b[0;34m\u001b[0m\u001b[0;34m\u001b[0m\u001b[0m\n\u001b[0;32m--> 174\u001b[0;31m             \u001b[0;32mraise\u001b[0m \u001b[0mException\u001b[0m\u001b[0;34m(\u001b[0m\u001b[0mr\u001b[0m\u001b[0;34m.\u001b[0m\u001b[0mcontent\u001b[0m\u001b[0;34m)\u001b[0m\u001b[0;34m\u001b[0m\u001b[0;34m\u001b[0m\u001b[0m\n\u001b[0m\u001b[1;32m    175\u001b[0m \u001b[0;34m\u001b[0m\u001b[0m\n\u001b[1;32m    176\u001b[0m         \u001b[0;32mtry\u001b[0m\u001b[0;34m:\u001b[0m\u001b[0;34m\u001b[0m\u001b[0;34m\u001b[0m\u001b[0m\n",
      "\u001b[0;31mException\u001b[0m: b'<!DOCTYPE html><html><head><title>Apache Tomcat/8.0.51 - Error report</title><style type=\"text/css\">H1 {font-family:Tahoma,Arial,sans-serif;color:white;background-color:#525D76;font-size:22px;} H2 {font-family:Tahoma,Arial,sans-serif;color:white;background-color:#525D76;font-size:16px;} H3 {font-family:Tahoma,Arial,sans-serif;color:white;background-color:#525D76;font-size:14px;} BODY {font-family:Tahoma,Arial,sans-serif;color:black;background-color:white;} B {font-family:Tahoma,Arial,sans-serif;color:white;background-color:#525D76;} P {font-family:Tahoma,Arial,sans-serif;background:white;color:black;font-size:12px;}A {color : black;}A.name {color : black;}.line {height: 1px; background-color: #525D76; border: none;}</style> </head><body><h1>HTTP Status 404 - Not Found</h1><div class=\"line\"></div><p><b>type</b> Status report</p><p><b>message</b> <u>Not Found</u></p><p><b>description</b> <u>The requested resource is not available.</u></p><hr class=\"line\"><h3>Apache Tomcat/8.0.51</h3></body></html>'"
     ]
    }
   ],
   "source": [
    "oc = OpencgaClient(config)\n",
    "oc.login('demouser')"
   ]
  },
  {
   "cell_type": "markdown",
   "id": "novel-dominican",
   "metadata": {},
   "source": [
    "## Error #5\n",
    "\n",
    "related with previous errors? need to fix them and try again"
   ]
  },
  {
   "cell_type": "code",
   "execution_count": 13,
   "id": "recreational-politics",
   "metadata": {},
   "outputs": [
    {
     "name": "stdout",
     "output_type": "stream",
     "text": [
      "None\n"
     ]
    }
   ],
   "source": [
    "token = oc.token\n",
    "print(token)"
   ]
  }
 ],
 "metadata": {
  "kernelspec": {
   "display_name": "Python 3",
   "language": "python",
   "name": "python3"
  },
  "language_info": {
   "codemirror_mode": {
    "name": "ipython",
    "version": 3
   },
   "file_extension": ".py",
   "mimetype": "text/x-python",
   "name": "python",
   "nbconvert_exporter": "python",
   "pygments_lexer": "ipython3",
   "version": "3.8.10"
  }
 },
 "nbformat": 4,
 "nbformat_minor": 5
}
